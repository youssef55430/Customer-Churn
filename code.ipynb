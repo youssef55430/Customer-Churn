{
 "cells": [
  {
   "cell_type": "code",
   "execution_count": 2,
   "id": "924c68ed",
   "metadata": {},
   "outputs": [],
   "source": [
    "import pandas as pd\n",
    "import numpy as np\n",
    "import matplotlib.pyplot as plt\n",
    "from pandas.api.types import is_numeric_dtype"
   ]
  },
  {
   "cell_type": "code",
   "execution_count": 3,
   "id": "c24222f1",
   "metadata": {},
   "outputs": [],
   "source": [
    "customer_churn = pd.read_csv('telecom_customer_churn.csv') #import CSV file to start cleaning"
   ]
  },
  {
   "cell_type": "code",
   "execution_count": 4,
   "id": "23918602",
   "metadata": {},
   "outputs": [],
   "source": [
    "#check nulls\n",
    "def check_nulls(df):\n",
    "        #create a dectionary to import num of nulls for each column in\n",
    "    nulls = {}\n",
    "    for col in df.columns:\n",
    "        nulls[col] = df[col].isna().sum()\n",
    "    return pd.DataFrame(nulls).T.reset_index().rename(columns={\"index\" : \"column\"})"
   ]
  },
  {
   "cell_type": "code",
   "execution_count": 5,
   "id": "5181ef76",
   "metadata": {},
   "outputs": [],
   "source": [
    "#create a DEF to check outliers for all data\n",
    "def check_outliers(df):\n",
    "    #create a dectionary to import num of outlier for each column in\n",
    "    results = {}\n",
    "    for col in df.columns:\n",
    "        if is_numeric_dtype(df[col]): #check that all columns type numeric only\n",
    "            q1 = df[col].quantile(0.25) # frist quarter of data\n",
    "            q3 = df[col].quantile(0.75) #third quarter of data\n",
    "        \n",
    "            iqr = q3-q1 # IQR\n",
    "            lower = q1 - 1.5 * iqr #lower outlier\n",
    "            upper = q3 + 1.5 * iqr # max outlier\n",
    "    \n",
    "            outliers = (df[col] < lower) | (df[col] > upper) # check outlier\n",
    "            results[col] = {\n",
    "                \"outlier_count\": outliers.sum(), #return outlier count\n",
    "                \"lower_bound\": lower, #return min value of outlier\n",
    "                \"upper_bound\": upper # return max value of outlier\n",
    "            }\n",
    "    return pd.DataFrame(results).T.reset_index().rename(columns={\"index\" : \"column\"})\n"
   ]
  },
  {
   "cell_type": "code",
   "execution_count": 6,
   "id": "ae58ef12",
   "metadata": {},
   "outputs": [],
   "source": [
    "check_outliers(customer_churn)"
   ]
  },
  {
   "cell_type": "code",
   "execution_count": 7,
   "id": "b7b3ce20",
   "metadata": {},
   "outputs": [],
   "source": [
    "check_nulls(customer_churn)"
   ]
  },
  {
   "cell_type": "code",
   "execution_count": null,
   "id": "8f2d4aed",
   "metadata": {},
   "outputs": [],
   "source": [
    "customer_churn['Internet Type'] = customer_churn['Internet Type'].fillna(\"No internet\") #replace nulls with No internet "
   ]
  },
  {
   "cell_type": "code",
   "execution_count": null,
   "id": "e81cdabb",
   "metadata": {},
   "outputs": [],
   "source": [
    "customer_churn['Device Protection Plan'] = customer_churn['Device Protection Plan'].fillna('No') # replace nulls with No"
   ]
  },
  {
   "cell_type": "code",
   "execution_count": null,
   "id": "fe053ad4",
   "metadata": {},
   "outputs": [],
   "source": [
    "customer_churn['Churn Category'] = customer_churn['Churn Category'].fillna(\"Stayed\" ) #replace nulls with Stayed CST"
   ]
  },
  {
   "cell_type": "code",
   "execution_count": null,
   "id": "d64b1a91",
   "metadata": {},
   "outputs": [],
   "source": [
    "customer_churn['Churn Reason'] = customer_churn['Churn Reason'].fillna(\"Stayed\") #replace nulls with Stayed CST"
   ]
  },
  {
   "cell_type": "code",
   "execution_count": null,
   "id": "c281007b",
   "metadata": {},
   "outputs": [],
   "source": [
    "customer_churn['Avg Monthly Long Distance Charges'] = customer_churn['Avg Monthly Long Distance Charges'].fillna(0) #replace nulls with 0"
   ]
  },
  {
   "cell_type": "code",
   "execution_count": null,
   "id": "e71d94f1",
   "metadata": {},
   "outputs": [],
   "source": [
    "customer_churn['Multiple Lines'] = customer_churn['Multiple Lines'].fillna('No') # replace nulls with No"
   ]
  },
  {
   "cell_type": "code",
   "execution_count": null,
   "id": "d94f00c2",
   "metadata": {},
   "outputs": [],
   "source": [
    "customer_churn['Offer'] = customer_churn['Offer'].fillna('No offer') #replace nulls with No offer"
   ]
  },
  {
   "cell_type": "code",
   "execution_count": null,
   "id": "9c73bfc0",
   "metadata": {},
   "outputs": [],
   "source": [
    "customer_churn['Avg Monthly GB Download'] = customer_churn['Avg Monthly GB Download'].fillna(0) #replace nulls with 0 "
   ]
  },
  {
   "cell_type": "code",
   "execution_count": null,
   "id": "9e412f72",
   "metadata": {},
   "outputs": [],
   "source": [
    "customer_churn['Online Backup'] = customer_churn['Online Backup'].fillna('No') # replace nulls with No"
   ]
  },
  {
   "cell_type": "code",
   "execution_count": null,
   "id": "cb043e11",
   "metadata": {},
   "outputs": [],
   "source": [
    "customer_churn['Online Security'] = customer_churn['Online Security'].fillna('No') # replace nulls with No"
   ]
  },
  {
   "cell_type": "code",
   "execution_count": null,
   "id": "7eab8830",
   "metadata": {},
   "outputs": [],
   "source": [
    "customer_churn['Premium Tech Support'] = customer_churn['Premium Tech Support'].fillna('No') # replace nulls with No"
   ]
  },
  {
   "cell_type": "code",
   "execution_count": null,
   "id": "88c47dde",
   "metadata": {},
   "outputs": [],
   "source": [
    "customer_churn['Streaming TV'] = customer_churn['Streaming TV'].fillna('No') # replace nulls with No"
   ]
  },
  {
   "cell_type": "code",
   "execution_count": null,
   "id": "4bb277ad",
   "metadata": {},
   "outputs": [],
   "source": [
    "customer_churn['Streaming Movies'] = customer_churn['Streaming Movies'].fillna('No') # replace nulls with No"
   ]
  },
  {
   "cell_type": "code",
   "execution_count": null,
   "id": "0bdd347e",
   "metadata": {},
   "outputs": [],
   "source": [
    "customer_churn['Streaming Music'] = customer_churn['Streaming Music'].fillna('No') # replace nulls with No"
   ]
  },
  {
   "cell_type": "code",
   "execution_count": null,
   "id": "804c3172",
   "metadata": {},
   "outputs": [],
   "source": [
    "customer_churn = customer_churn.drop_duplicates() #drop dublicates"
   ]
  },
  {
   "cell_type": "code",
   "execution_count": null,
   "id": "99ad2cf1",
   "metadata": {},
   "outputs": [],
   "source": [
    "check_nulls(customer_churn) #recheck nulls "
   ]
  },
  {
   "cell_type": "code",
   "execution_count": null,
   "id": "e0b47f1e",
   "metadata": {},
   "outputs": [],
   "source": [
    "customer_churn.to_csv(\"customer churn\",index=False) # export clean data to CSV"
   ]
  }
 ],
 "metadata": {
  "kernelspec": {
   "display_name": "Python 3",
   "language": "python",
   "name": "python3"
  },
  "language_info": {
   "codemirror_mode": {
    "name": "ipython",
    "version": 3
   },
   "file_extension": ".py",
   "mimetype": "text/x-python",
   "name": "python",
   "nbconvert_exporter": "python",
   "pygments_lexer": "ipython3",
   "version": "3.11.9"
  }
 },
 "nbformat": 4,
 "nbformat_minor": 5
}
