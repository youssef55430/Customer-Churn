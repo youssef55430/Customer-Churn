{
 "cells": [
  {
   "cell_type": "code",
   "execution_count": 12,
   "id": "924c68ed",
   "metadata": {},
   "outputs": [],
   "source": [
    "import pandas as pd\n",
    "import numpy as np\n",
    "import matplotlib.pyplot as plt\n",
    "from pandas.api.types import is_numeric_dtype"
   ]
  },
  {
   "cell_type": "code",
   "execution_count": 13,
   "id": "c24222f1",
   "metadata": {},
   "outputs": [],
   "source": [
    "customer_churn = pd.read_csv('telecom_customer_churn.csv')\n"
   ]
  },
  {
   "cell_type": "code",
   "execution_count": 14,
   "id": "23918602",
   "metadata": {},
   "outputs": [],
   "source": [
    "#check nulls\n",
    "def check_nulls(df):\n",
    "        #create a dectionary to import num of nulls for each column in\n",
    "    nulls = {}\n",
    "    for col in df.columns:\n",
    "        nulls[col] = df[col].isna().sum()\n",
    "    return nulls"
   ]
  },
  {
   "cell_type": "code",
   "execution_count": 15,
   "id": "5181ef76",
   "metadata": {},
   "outputs": [],
   "source": [
    "#create a DEF to check outliers for all data\n",
    "def check_outliers(df):\n",
    "    #create a dectionary to import num of outlier for each column in\n",
    "    results = {}\n",
    "    for col in df.columns:\n",
    "        if is_numeric_dtype(df[col]): #check that all columns type numeric only\n",
    "            q1 = df[col].quantile(0.25) # frist quarter of data\n",
    "            q3 = df[col].quantile(0.75) #third quarter of data\n",
    "        \n",
    "            iqr = q3-q1 # IQR\n",
    "            lower = q1 - 1.5 * iqr #lower outlier\n",
    "            upper = q3 + 1.5 * iqr # max outlier\n",
    "    \n",
    "            outliers = (df[col] < lower) | (df[col] > upper) # check outlier\n",
    "            results[col] = {\n",
    "                \"outlier_count\": outliers.sum(), #return outlier count\n",
    "                \"lower_bound\": lower, #return min value for outlier\n",
    "                \"upper_bound\": upper # return max value of outlier\n",
    "            }\n",
    "    return results"
   ]
  },
  {
   "cell_type": "code",
   "execution_count": 16,
   "id": "ae58ef12",
   "metadata": {},
   "outputs": [
    {
     "data": {
      "text/plain": [
       "{'Age': {'outlier_count': np.int64(0),\n",
       "  'lower_bound': np.float64(-10.0),\n",
       "  'upper_bound': np.float64(102.0)},\n",
       " 'Number of Dependents': {'outlier_count': np.int64(1627),\n",
       "  'lower_bound': np.float64(0.0),\n",
       "  'upper_bound': np.float64(0.0)},\n",
       " 'Zip Code': {'outlier_count': np.int64(0),\n",
       "  'lower_bound': np.float64(87259.0),\n",
       "  'upper_bound': np.float64(100171.0)},\n",
       " 'Latitude': {'outlier_count': np.int64(0),\n",
       "  'lower_bound': np.float64(27.734633499999994),\n",
       "  'upper_bound': np.float64(44.417333500000005)},\n",
       " 'Longitude': {'outlier_count': np.int64(0),\n",
       "  'lower_bound': np.float64(-127.51553249999998),\n",
       "  'upper_bound': np.float64(-112.24235250000001)},\n",
       " 'Number of Referrals': {'outlier_count': np.int64(676),\n",
       "  'lower_bound': np.float64(-4.5),\n",
       "  'upper_bound': np.float64(7.5)},\n",
       " 'Tenure in Months': {'outlier_count': np.int64(0),\n",
       "  'lower_bound': np.float64(-60.0),\n",
       "  'upper_bound': np.float64(124.0)},\n",
       " 'Avg Monthly Long Distance Charges': {'outlier_count': np.int64(0),\n",
       "  'lower_bound': np.float64(-23.895),\n",
       "  'upper_bound': np.float64(74.625)},\n",
       " 'Avg Monthly GB Download': {'outlier_count': np.int64(649),\n",
       "  'lower_bound': np.float64(-12.5),\n",
       "  'upper_bound': np.float64(55.5)},\n",
       " 'Monthly Charge': {'outlier_count': np.int64(0),\n",
       "  'lower_bound': np.float64(-58.62500000000001),\n",
       "  'upper_bound': np.float64(178.775)},\n",
       " 'Total Charges': {'outlier_count': np.int64(0),\n",
       "  'lower_bound': np.float64(-4679.525),\n",
       "  'upper_bound': np.float64(8866.275)},\n",
       " 'Total Refunds': {'outlier_count': np.int64(525),\n",
       "  'lower_bound': np.float64(0.0),\n",
       "  'upper_bound': np.float64(0.0)},\n",
       " 'Total Extra Data Charges': {'outlier_count': np.int64(728),\n",
       "  'lower_bound': np.float64(0.0),\n",
       "  'upper_bound': np.float64(0.0)},\n",
       " 'Total Long Distance Charges': {'outlier_count': np.int64(196),\n",
       "  'lower_bound': np.float64(-1610.2874999999997),\n",
       "  'upper_bound': np.float64(2871.9325)},\n",
       " 'Total Revenue': {'outlier_count': np.int64(21),\n",
       "  'lower_bound': np.float64(-5687.692500000002),\n",
       "  'upper_bound': np.float64(11094.447500000002)}}"
      ]
     },
     "execution_count": 16,
     "metadata": {},
     "output_type": "execute_result"
    }
   ],
   "source": [
    "check_outliers(customer_churn)"
   ]
  },
  {
   "cell_type": "code",
   "execution_count": 17,
   "id": "b7b3ce20",
   "metadata": {},
   "outputs": [
    {
     "data": {
      "text/plain": [
       "{'Customer ID': np.int64(0),\n",
       " 'Gender': np.int64(0),\n",
       " 'Age': np.int64(0),\n",
       " 'Married': np.int64(0),\n",
       " 'Number of Dependents': np.int64(0),\n",
       " 'City': np.int64(0),\n",
       " 'Zip Code': np.int64(0),\n",
       " 'Latitude': np.int64(0),\n",
       " 'Longitude': np.int64(0),\n",
       " 'Number of Referrals': np.int64(0),\n",
       " 'Tenure in Months': np.int64(0),\n",
       " 'Offer': np.int64(3877),\n",
       " 'Phone Service': np.int64(0),\n",
       " 'Avg Monthly Long Distance Charges': np.int64(682),\n",
       " 'Multiple Lines': np.int64(682),\n",
       " 'Internet Service': np.int64(0),\n",
       " 'Internet Type': np.int64(1526),\n",
       " 'Avg Monthly GB Download': np.int64(1526),\n",
       " 'Online Security': np.int64(1526),\n",
       " 'Online Backup': np.int64(1526),\n",
       " 'Device Protection Plan': np.int64(1526),\n",
       " 'Premium Tech Support': np.int64(1526),\n",
       " 'Streaming TV': np.int64(1526),\n",
       " 'Streaming Movies': np.int64(1526),\n",
       " 'Streaming Music': np.int64(1526),\n",
       " 'Unlimited Data': np.int64(1526),\n",
       " 'Contract': np.int64(0),\n",
       " 'Paperless Billing': np.int64(0),\n",
       " 'Payment Method': np.int64(0),\n",
       " 'Monthly Charge': np.int64(0),\n",
       " 'Total Charges': np.int64(0),\n",
       " 'Total Refunds': np.int64(0),\n",
       " 'Total Extra Data Charges': np.int64(0),\n",
       " 'Total Long Distance Charges': np.int64(0),\n",
       " 'Total Revenue': np.int64(0),\n",
       " 'Customer Status': np.int64(0),\n",
       " 'Churn Category': np.int64(5174),\n",
       " 'Churn Reason': np.int64(5174)}"
      ]
     },
     "execution_count": 17,
     "metadata": {},
     "output_type": "execute_result"
    }
   ],
   "source": [
    "check_nulls(customer_churn)"
   ]
  },
  {
   "cell_type": "code",
   "execution_count": 31,
   "id": "0e573eff",
   "metadata": {},
   "outputs": [
    {
     "name": "stderr",
     "output_type": "stream",
     "text": [
      "C:\\Users\\hp\\AppData\\Local\\Temp\\ipykernel_24472\\1858361589.py:4: FutureWarning: A value is trying to be set on a copy of a DataFrame or Series through chained assignment using an inplace method.\n",
      "The behavior will change in pandas 3.0. This inplace method will never work because the intermediate object on which we are setting values always behaves as a copy.\n",
      "\n",
      "For example, when doing 'df[col].method(value, inplace=True)', try using 'df.method({col: value}, inplace=True)' or df[col] = df[col].method(value) instead, to perform the operation inplace on the original object.\n",
      "\n",
      "\n",
      "  customer_churn['Churn Reason'].fillna(\"Stayed\" , inplace=True)\n"
     ]
    }
   ],
   "source": [
    "customer_churn['Internet Type'].fillna(\"No internet\",inplace=True)\n",
    "customer_churn['Device Protection Plan'].fillna('No',inplace=True)\n",
    "customer_churn['Churn Category'].fillna(\"Stayed\" , inplace=True)\n",
    "customer_churn['Churn Reason'].fillna(\"Stayed\" , inplace=True)"
   ]
  },
  {
   "cell_type": "code",
   "execution_count": 34,
   "id": "2a744540",
   "metadata": {},
   "outputs": [
    {
     "data": {
      "application/vnd.microsoft.datawrangler.viewer.v0+json": {
       "columns": [
        {
         "name": "Churn Category",
         "rawType": "object",
         "type": "string"
        },
        {
         "name": "count",
         "rawType": "int64",
         "type": "integer"
        }
       ],
       "ref": "3ef6a5f6-ee85-444f-ada6-f8a385fa34fb",
       "rows": [
        [
         "Stayed",
         "5174"
        ],
        [
         "Competitor",
         "841"
        ],
        [
         "Dissatisfaction",
         "321"
        ],
        [
         "Attitude",
         "314"
        ],
        [
         "Price",
         "211"
        ],
        [
         "Other",
         "182"
        ]
       ],
       "shape": {
        "columns": 1,
        "rows": 6
       }
      },
      "text/plain": [
       "Churn Category\n",
       "Stayed             5174\n",
       "Competitor          841\n",
       "Dissatisfaction     321\n",
       "Attitude            314\n",
       "Price               211\n",
       "Other               182\n",
       "Name: count, dtype: int64"
      ]
     },
     "execution_count": 34,
     "metadata": {},
     "output_type": "execute_result"
    }
   ],
   "source": [
    "customer_churn['Churn Reason'].value_counts()\n",
    "customer_churn['Churn Category'].value_counts()"
   ]
  }
 ],
 "metadata": {
  "kernelspec": {
   "display_name": "Python 3",
   "language": "python",
   "name": "python3"
  },
  "language_info": {
   "codemirror_mode": {
    "name": "ipython",
    "version": 3
   },
   "file_extension": ".py",
   "mimetype": "text/x-python",
   "name": "python",
   "nbconvert_exporter": "python",
   "pygments_lexer": "ipython3",
   "version": "3.11.9"
  }
 },
 "nbformat": 4,
 "nbformat_minor": 5
}
